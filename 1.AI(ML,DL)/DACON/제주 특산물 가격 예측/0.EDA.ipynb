{
 "cells": [
  {
   "cell_type": "markdown",
   "metadata": {},
   "source": [
    "## Import Module"
   ]
  },
  {
   "cell_type": "code",
   "execution_count": 1,
   "metadata": {},
   "outputs": [],
   "source": [
    "import pandas as pd\n",
    "import numpy as np\n",
    "import matplotlib.pyplot as plt\n",
    "import seaborn as sns\n",
    "import os.path"
   ]
  },
  {
   "cell_type": "markdown",
   "metadata": {},
   "source": [
    "## Read Data"
   ]
  },
  {
   "cell_type": "code",
   "execution_count": 2,
   "metadata": {},
   "outputs": [
    {
     "name": "stdout",
     "output_type": "stream",
     "text": [
      "c:\\바탕 화면\\Code\\daily_code\\1.AI(ML,DL)\\DACON\\제주 특산물 가격 예측\n"
     ]
    },
    {
     "data": {
      "text/plain": [
       "'c:\\\\바탕 화면\\\\Code\\\\daily_code\\\\1.AI(ML,DL)\\\\DACON\\\\제주 특산물 가격 예측/data'"
      ]
     },
     "execution_count": 2,
     "metadata": {},
     "output_type": "execute_result"
    }
   ],
   "source": [
    "now_dir = os.getcwd()\n",
    "print(now_dir)\n",
    "data_dir = now_dir + '/data'\n",
    "data_dir"
   ]
  },
  {
   "cell_type": "code",
   "execution_count": 3,
   "metadata": {},
   "outputs": [
    {
     "data": {
      "text/plain": [
       "['international_trade.csv', 'sample_submission.csv', 'test.csv', 'train.csv']"
      ]
     },
     "execution_count": 3,
     "metadata": {},
     "output_type": "execute_result"
    }
   ],
   "source": [
    "os.listdir(data_dir)"
   ]
  },
  {
   "cell_type": "code",
   "execution_count": 4,
   "metadata": {},
   "outputs": [],
   "source": [
    "train = pd.read_csv(data_dir +'/train.csv')\n",
    "test = pd.read_csv(data_dir +'/test.csv')\n",
    "international_trade = pd.read_csv(data_dir + '/international_trade.csv')\n",
    "submission = pd.read_csv(data_dir + '/sample_submission.csv')"
   ]
  },
  {
   "cell_type": "code",
   "execution_count": 5,
   "metadata": {},
   "outputs": [
    {
     "data": {
      "text/plain": [
       "((59397, 7), (1092, 5), (1274, 7))"
      ]
     },
     "execution_count": 5,
     "metadata": {},
     "output_type": "execute_result"
    }
   ],
   "source": [
    "train.shape, test.shape, international_trade.shape"
   ]
  },
  {
   "cell_type": "code",
   "execution_count": 6,
   "metadata": {},
   "outputs": [
    {
     "data": {
      "text/html": [
       "<div>\n",
       "<style scoped>\n",
       "    .dataframe tbody tr th:only-of-type {\n",
       "        vertical-align: middle;\n",
       "    }\n",
       "\n",
       "    .dataframe tbody tr th {\n",
       "        vertical-align: top;\n",
       "    }\n",
       "\n",
       "    .dataframe thead th {\n",
       "        text-align: right;\n",
       "    }\n",
       "</style>\n",
       "<table border=\"1\" class=\"dataframe\">\n",
       "  <thead>\n",
       "    <tr style=\"text-align: right;\">\n",
       "      <th></th>\n",
       "      <th>ID</th>\n",
       "      <th>timestamp</th>\n",
       "      <th>item</th>\n",
       "      <th>corporation</th>\n",
       "      <th>location</th>\n",
       "      <th>supply(kg)</th>\n",
       "      <th>price(원/kg)</th>\n",
       "    </tr>\n",
       "  </thead>\n",
       "  <tbody>\n",
       "    <tr>\n",
       "      <th>0</th>\n",
       "      <td>TG_A_J_20190101</td>\n",
       "      <td>2019-01-01</td>\n",
       "      <td>TG</td>\n",
       "      <td>A</td>\n",
       "      <td>J</td>\n",
       "      <td>0.0</td>\n",
       "      <td>0.0</td>\n",
       "    </tr>\n",
       "    <tr>\n",
       "      <th>1</th>\n",
       "      <td>TG_A_J_20190102</td>\n",
       "      <td>2019-01-02</td>\n",
       "      <td>TG</td>\n",
       "      <td>A</td>\n",
       "      <td>J</td>\n",
       "      <td>0.0</td>\n",
       "      <td>0.0</td>\n",
       "    </tr>\n",
       "    <tr>\n",
       "      <th>2</th>\n",
       "      <td>TG_A_J_20190103</td>\n",
       "      <td>2019-01-03</td>\n",
       "      <td>TG</td>\n",
       "      <td>A</td>\n",
       "      <td>J</td>\n",
       "      <td>60601.0</td>\n",
       "      <td>1728.0</td>\n",
       "    </tr>\n",
       "    <tr>\n",
       "      <th>3</th>\n",
       "      <td>TG_A_J_20190104</td>\n",
       "      <td>2019-01-04</td>\n",
       "      <td>TG</td>\n",
       "      <td>A</td>\n",
       "      <td>J</td>\n",
       "      <td>25000.0</td>\n",
       "      <td>1408.0</td>\n",
       "    </tr>\n",
       "    <tr>\n",
       "      <th>4</th>\n",
       "      <td>TG_A_J_20190105</td>\n",
       "      <td>2019-01-05</td>\n",
       "      <td>TG</td>\n",
       "      <td>A</td>\n",
       "      <td>J</td>\n",
       "      <td>32352.0</td>\n",
       "      <td>1250.0</td>\n",
       "    </tr>\n",
       "  </tbody>\n",
       "</table>\n",
       "</div>"
      ],
      "text/plain": [
       "                ID   timestamp item corporation location  supply(kg)  \\\n",
       "0  TG_A_J_20190101  2019-01-01   TG           A        J         0.0   \n",
       "1  TG_A_J_20190102  2019-01-02   TG           A        J         0.0   \n",
       "2  TG_A_J_20190103  2019-01-03   TG           A        J     60601.0   \n",
       "3  TG_A_J_20190104  2019-01-04   TG           A        J     25000.0   \n",
       "4  TG_A_J_20190105  2019-01-05   TG           A        J     32352.0   \n",
       "\n",
       "   price(원/kg)  \n",
       "0          0.0  \n",
       "1          0.0  \n",
       "2       1728.0  \n",
       "3       1408.0  \n",
       "4       1250.0  "
      ]
     },
     "execution_count": 6,
     "metadata": {},
     "output_type": "execute_result"
    }
   ],
   "source": [
    "train.head()"
   ]
  },
  {
   "cell_type": "code",
   "execution_count": 7,
   "metadata": {},
   "outputs": [
    {
     "data": {
      "text/html": [
       "<div>\n",
       "<style scoped>\n",
       "    .dataframe tbody tr th:only-of-type {\n",
       "        vertical-align: middle;\n",
       "    }\n",
       "\n",
       "    .dataframe tbody tr th {\n",
       "        vertical-align: top;\n",
       "    }\n",
       "\n",
       "    .dataframe thead th {\n",
       "        text-align: right;\n",
       "    }\n",
       "</style>\n",
       "<table border=\"1\" class=\"dataframe\">\n",
       "  <thead>\n",
       "    <tr style=\"text-align: right;\">\n",
       "      <th></th>\n",
       "      <th>ID</th>\n",
       "      <th>timestamp</th>\n",
       "      <th>item</th>\n",
       "      <th>corporation</th>\n",
       "      <th>location</th>\n",
       "      <th>supply(kg)</th>\n",
       "      <th>price(원/kg)</th>\n",
       "    </tr>\n",
       "  </thead>\n",
       "  <tbody>\n",
       "    <tr>\n",
       "      <th>59392</th>\n",
       "      <td>RD_F_J_20230227</td>\n",
       "      <td>2023-02-27</td>\n",
       "      <td>RD</td>\n",
       "      <td>F</td>\n",
       "      <td>J</td>\n",
       "      <td>452440.0</td>\n",
       "      <td>468.0</td>\n",
       "    </tr>\n",
       "    <tr>\n",
       "      <th>59393</th>\n",
       "      <td>RD_F_J_20230228</td>\n",
       "      <td>2023-02-28</td>\n",
       "      <td>RD</td>\n",
       "      <td>F</td>\n",
       "      <td>J</td>\n",
       "      <td>421980.0</td>\n",
       "      <td>531.0</td>\n",
       "    </tr>\n",
       "    <tr>\n",
       "      <th>59394</th>\n",
       "      <td>RD_F_J_20230301</td>\n",
       "      <td>2023-03-01</td>\n",
       "      <td>RD</td>\n",
       "      <td>F</td>\n",
       "      <td>J</td>\n",
       "      <td>382980.0</td>\n",
       "      <td>574.0</td>\n",
       "    </tr>\n",
       "    <tr>\n",
       "      <th>59395</th>\n",
       "      <td>RD_F_J_20230302</td>\n",
       "      <td>2023-03-02</td>\n",
       "      <td>RD</td>\n",
       "      <td>F</td>\n",
       "      <td>J</td>\n",
       "      <td>477220.0</td>\n",
       "      <td>523.0</td>\n",
       "    </tr>\n",
       "    <tr>\n",
       "      <th>59396</th>\n",
       "      <td>RD_F_J_20230303</td>\n",
       "      <td>2023-03-03</td>\n",
       "      <td>RD</td>\n",
       "      <td>F</td>\n",
       "      <td>J</td>\n",
       "      <td>427520.0</td>\n",
       "      <td>529.0</td>\n",
       "    </tr>\n",
       "  </tbody>\n",
       "</table>\n",
       "</div>"
      ],
      "text/plain": [
       "                    ID   timestamp item corporation location  supply(kg)  \\\n",
       "59392  RD_F_J_20230227  2023-02-27   RD           F        J    452440.0   \n",
       "59393  RD_F_J_20230228  2023-02-28   RD           F        J    421980.0   \n",
       "59394  RD_F_J_20230301  2023-03-01   RD           F        J    382980.0   \n",
       "59395  RD_F_J_20230302  2023-03-02   RD           F        J    477220.0   \n",
       "59396  RD_F_J_20230303  2023-03-03   RD           F        J    427520.0   \n",
       "\n",
       "       price(원/kg)  \n",
       "59392        468.0  \n",
       "59393        531.0  \n",
       "59394        574.0  \n",
       "59395        523.0  \n",
       "59396        529.0  "
      ]
     },
     "execution_count": 7,
     "metadata": {},
     "output_type": "execute_result"
    }
   ],
   "source": [
    "train.tail()"
   ]
  },
  {
   "cell_type": "code",
   "execution_count": 8,
   "metadata": {},
   "outputs": [
    {
     "data": {
      "text/html": [
       "<div>\n",
       "<style scoped>\n",
       "    .dataframe tbody tr th:only-of-type {\n",
       "        vertical-align: middle;\n",
       "    }\n",
       "\n",
       "    .dataframe tbody tr th {\n",
       "        vertical-align: top;\n",
       "    }\n",
       "\n",
       "    .dataframe thead th {\n",
       "        text-align: right;\n",
       "    }\n",
       "</style>\n",
       "<table border=\"1\" class=\"dataframe\">\n",
       "  <thead>\n",
       "    <tr style=\"text-align: right;\">\n",
       "      <th></th>\n",
       "      <th>ID</th>\n",
       "      <th>timestamp</th>\n",
       "      <th>item</th>\n",
       "      <th>corporation</th>\n",
       "      <th>location</th>\n",
       "    </tr>\n",
       "  </thead>\n",
       "  <tbody>\n",
       "    <tr>\n",
       "      <th>0</th>\n",
       "      <td>TG_A_J_20230304</td>\n",
       "      <td>2023-03-04</td>\n",
       "      <td>TG</td>\n",
       "      <td>A</td>\n",
       "      <td>J</td>\n",
       "    </tr>\n",
       "    <tr>\n",
       "      <th>1</th>\n",
       "      <td>TG_A_J_20230305</td>\n",
       "      <td>2023-03-05</td>\n",
       "      <td>TG</td>\n",
       "      <td>A</td>\n",
       "      <td>J</td>\n",
       "    </tr>\n",
       "    <tr>\n",
       "      <th>2</th>\n",
       "      <td>TG_A_J_20230306</td>\n",
       "      <td>2023-03-06</td>\n",
       "      <td>TG</td>\n",
       "      <td>A</td>\n",
       "      <td>J</td>\n",
       "    </tr>\n",
       "    <tr>\n",
       "      <th>3</th>\n",
       "      <td>TG_A_J_20230307</td>\n",
       "      <td>2023-03-07</td>\n",
       "      <td>TG</td>\n",
       "      <td>A</td>\n",
       "      <td>J</td>\n",
       "    </tr>\n",
       "    <tr>\n",
       "      <th>4</th>\n",
       "      <td>TG_A_J_20230308</td>\n",
       "      <td>2023-03-08</td>\n",
       "      <td>TG</td>\n",
       "      <td>A</td>\n",
       "      <td>J</td>\n",
       "    </tr>\n",
       "  </tbody>\n",
       "</table>\n",
       "</div>"
      ],
      "text/plain": [
       "                ID   timestamp item corporation location\n",
       "0  TG_A_J_20230304  2023-03-04   TG           A        J\n",
       "1  TG_A_J_20230305  2023-03-05   TG           A        J\n",
       "2  TG_A_J_20230306  2023-03-06   TG           A        J\n",
       "3  TG_A_J_20230307  2023-03-07   TG           A        J\n",
       "4  TG_A_J_20230308  2023-03-08   TG           A        J"
      ]
     },
     "execution_count": 8,
     "metadata": {},
     "output_type": "execute_result"
    }
   ],
   "source": [
    "test.head()"
   ]
  },
  {
   "cell_type": "code",
   "execution_count": 9,
   "metadata": {},
   "outputs": [
    {
     "data": {
      "text/html": [
       "<div>\n",
       "<style scoped>\n",
       "    .dataframe tbody tr th:only-of-type {\n",
       "        vertical-align: middle;\n",
       "    }\n",
       "\n",
       "    .dataframe tbody tr th {\n",
       "        vertical-align: top;\n",
       "    }\n",
       "\n",
       "    .dataframe thead th {\n",
       "        text-align: right;\n",
       "    }\n",
       "</style>\n",
       "<table border=\"1\" class=\"dataframe\">\n",
       "  <thead>\n",
       "    <tr style=\"text-align: right;\">\n",
       "      <th></th>\n",
       "      <th>기간</th>\n",
       "      <th>품목명</th>\n",
       "      <th>수출 중량</th>\n",
       "      <th>수출 금액</th>\n",
       "      <th>수입 중량</th>\n",
       "      <th>수입 금액</th>\n",
       "      <th>무역수지</th>\n",
       "    </tr>\n",
       "  </thead>\n",
       "  <tbody>\n",
       "    <tr>\n",
       "      <th>0</th>\n",
       "      <td>2019-01</td>\n",
       "      <td>토마토(신선한 것이나 냉장한 것으로 한정한다)</td>\n",
       "      <td>356571</td>\n",
       "      <td>990</td>\n",
       "      <td>0</td>\n",
       "      <td>0</td>\n",
       "      <td>990</td>\n",
       "    </tr>\n",
       "    <tr>\n",
       "      <th>1</th>\n",
       "      <td>2019-01</td>\n",
       "      <td>양파</td>\n",
       "      <td>821330</td>\n",
       "      <td>222</td>\n",
       "      <td>4003206</td>\n",
       "      <td>1118</td>\n",
       "      <td>-896</td>\n",
       "    </tr>\n",
       "    <tr>\n",
       "      <th>2</th>\n",
       "      <td>2019-01</td>\n",
       "      <td>쪽파</td>\n",
       "      <td>60</td>\n",
       "      <td>1</td>\n",
       "      <td>93405</td>\n",
       "      <td>128</td>\n",
       "      <td>-127</td>\n",
       "    </tr>\n",
       "    <tr>\n",
       "      <th>3</th>\n",
       "      <td>2019-01</td>\n",
       "      <td>꽃양배추와 브로콜리(broccoli)</td>\n",
       "      <td>160</td>\n",
       "      <td>1</td>\n",
       "      <td>638913</td>\n",
       "      <td>563</td>\n",
       "      <td>-562</td>\n",
       "    </tr>\n",
       "    <tr>\n",
       "      <th>4</th>\n",
       "      <td>2019-01</td>\n",
       "      <td>방울다다기 양배추</td>\n",
       "      <td>0</td>\n",
       "      <td>0</td>\n",
       "      <td>7580</td>\n",
       "      <td>38</td>\n",
       "      <td>-38</td>\n",
       "    </tr>\n",
       "  </tbody>\n",
       "</table>\n",
       "</div>"
      ],
      "text/plain": [
       "        기간                        품목명   수출 중량  수출 금액    수입 중량  수입 금액  무역수지\n",
       "0  2019-01  토마토(신선한 것이나 냉장한 것으로 한정한다)  356571    990        0      0   990\n",
       "1  2019-01                         양파  821330    222  4003206   1118  -896\n",
       "2  2019-01                         쪽파      60      1    93405    128  -127\n",
       "3  2019-01       꽃양배추와 브로콜리(broccoli)     160      1   638913    563  -562\n",
       "4  2019-01                  방울다다기 양배추       0      0     7580     38   -38"
      ]
     },
     "execution_count": 9,
     "metadata": {},
     "output_type": "execute_result"
    }
   ],
   "source": [
    "international_trade.head()"
   ]
  },
  {
   "cell_type": "markdown",
   "metadata": {},
   "source": [
    "## EDA"
   ]
  },
  {
   "cell_type": "markdown",
   "metadata": {},
   "source": [
    "### Train"
   ]
  },
  {
   "cell_type": "code",
   "execution_count": 10,
   "metadata": {},
   "outputs": [
    {
     "data": {
      "text/plain": [
       "(                ID   timestamp item corporation location  supply(kg)  \\\n",
       " 0  TG_A_J_20190101  2019-01-01   TG           A        J         0.0   \n",
       " 1  TG_A_J_20190102  2019-01-02   TG           A        J         0.0   \n",
       " 2  TG_A_J_20190103  2019-01-03   TG           A        J     60601.0   \n",
       " 3  TG_A_J_20190104  2019-01-04   TG           A        J     25000.0   \n",
       " 4  TG_A_J_20190105  2019-01-05   TG           A        J     32352.0   \n",
       " \n",
       "    price(원/kg)  \n",
       " 0          0.0  \n",
       " 1          0.0  \n",
       " 2       1728.0  \n",
       " 3       1408.0  \n",
       " 4       1250.0  ,\n",
       " (59397, 7))"
      ]
     },
     "execution_count": 10,
     "metadata": {},
     "output_type": "execute_result"
    }
   ],
   "source": [
    "train.head(), train.shape"
   ]
  },
  {
   "cell_type": "code",
   "execution_count": 11,
   "metadata": {},
   "outputs": [
    {
     "data": {
      "text/html": [
       "<div>\n",
       "<style scoped>\n",
       "    .dataframe tbody tr th:only-of-type {\n",
       "        vertical-align: middle;\n",
       "    }\n",
       "\n",
       "    .dataframe tbody tr th {\n",
       "        vertical-align: top;\n",
       "    }\n",
       "\n",
       "    .dataframe thead th {\n",
       "        text-align: right;\n",
       "    }\n",
       "</style>\n",
       "<table border=\"1\" class=\"dataframe\">\n",
       "  <thead>\n",
       "    <tr style=\"text-align: right;\">\n",
       "      <th></th>\n",
       "      <th>ID</th>\n",
       "      <th>timestamp</th>\n",
       "      <th>item</th>\n",
       "      <th>corporation</th>\n",
       "      <th>location</th>\n",
       "    </tr>\n",
       "  </thead>\n",
       "  <tbody>\n",
       "    <tr>\n",
       "      <th>count</th>\n",
       "      <td>59397</td>\n",
       "      <td>59397</td>\n",
       "      <td>59397</td>\n",
       "      <td>59397</td>\n",
       "      <td>59397</td>\n",
       "    </tr>\n",
       "    <tr>\n",
       "      <th>unique</th>\n",
       "      <td>59397</td>\n",
       "      <td>1523</td>\n",
       "      <td>5</td>\n",
       "      <td>6</td>\n",
       "      <td>2</td>\n",
       "    </tr>\n",
       "    <tr>\n",
       "      <th>top</th>\n",
       "      <td>TG_A_J_20190101</td>\n",
       "      <td>2019-01-01</td>\n",
       "      <td>TG</td>\n",
       "      <td>A</td>\n",
       "      <td>J</td>\n",
       "    </tr>\n",
       "    <tr>\n",
       "      <th>freq</th>\n",
       "      <td>1</td>\n",
       "      <td>39</td>\n",
       "      <td>15230</td>\n",
       "      <td>13707</td>\n",
       "      <td>35029</td>\n",
       "    </tr>\n",
       "  </tbody>\n",
       "</table>\n",
       "</div>"
      ],
      "text/plain": [
       "                     ID   timestamp   item corporation location\n",
       "count             59397       59397  59397       59397    59397\n",
       "unique            59397        1523      5           6        2\n",
       "top     TG_A_J_20190101  2019-01-01     TG           A        J\n",
       "freq                  1          39  15230       13707    35029"
      ]
     },
     "execution_count": 11,
     "metadata": {},
     "output_type": "execute_result"
    }
   ],
   "source": [
    "train.describe(include='object')"
   ]
  },
  {
   "cell_type": "code",
   "execution_count": 12,
   "metadata": {},
   "outputs": [
    {
     "data": {
      "text/plain": [
       "2019-01-01    39\n",
       "2021-10-09    39\n",
       "2021-10-18    39\n",
       "2021-10-17    39\n",
       "2021-10-16    39\n",
       "              ..\n",
       "2020-05-20    39\n",
       "2020-05-19    39\n",
       "2020-05-18    39\n",
       "2020-05-17    39\n",
       "2023-03-03    39\n",
       "Name: timestamp, Length: 1523, dtype: int64"
      ]
     },
     "execution_count": 12,
     "metadata": {},
     "output_type": "execute_result"
    }
   ],
   "source": [
    "train['timestamp'].value_counts()"
   ]
  },
  {
   "cell_type": "code",
   "execution_count": 13,
   "metadata": {},
   "outputs": [
    {
     "data": {
      "text/plain": [
       "TG    15230\n",
       "BC    13707\n",
       "RD    12184\n",
       "CR    10661\n",
       "CB     7615\n",
       "Name: item, dtype: int64"
      ]
     },
     "execution_count": 13,
     "metadata": {},
     "output_type": "execute_result"
    }
   ],
   "source": [
    "'''\n",
    "item: 품목 코드\n",
    "TG : 감귤\n",
    "BC : 브로콜리\n",
    "RD : 무\n",
    "CR : 당근\n",
    "CB : 양배추\n",
    "'''\n",
    "train['item'].value_counts()\n"
   ]
  },
  {
   "cell_type": "code",
   "execution_count": 14,
   "metadata": {},
   "outputs": [
    {
     "data": {
      "text/plain": [
       "A    13707\n",
       "E    13707\n",
       "D    12184\n",
       "C     9138\n",
       "B     7615\n",
       "F     3046\n",
       "Name: corporation, dtype: int64"
      ]
     },
     "execution_count": 14,
     "metadata": {},
     "output_type": "execute_result"
    }
   ],
   "source": [
    "train['corporation'].value_counts()"
   ]
  },
  {
   "cell_type": "code",
   "execution_count": 15,
   "metadata": {},
   "outputs": [
    {
     "data": {
      "text/plain": [
       "J    35029\n",
       "S    24368\n",
       "Name: location, dtype: int64"
      ]
     },
     "execution_count": 15,
     "metadata": {},
     "output_type": "execute_result"
    }
   ],
   "source": [
    "'''\n",
    "J : 제주도 제주시\n",
    "S : 제주도 서귀포시\n",
    "'''\n",
    "train['location'].value_counts()\n"
   ]
  },
  {
   "cell_type": "code",
   "execution_count": 24,
   "metadata": {},
   "outputs": [
    {
     "data": {
      "text/html": [
       "<div>\n",
       "<style scoped>\n",
       "    .dataframe tbody tr th:only-of-type {\n",
       "        vertical-align: middle;\n",
       "    }\n",
       "\n",
       "    .dataframe tbody tr th {\n",
       "        vertical-align: top;\n",
       "    }\n",
       "\n",
       "    .dataframe thead th {\n",
       "        text-align: right;\n",
       "    }\n",
       "</style>\n",
       "<table border=\"1\" class=\"dataframe\">\n",
       "  <thead>\n",
       "    <tr style=\"text-align: right;\">\n",
       "      <th></th>\n",
       "      <th>supply(kg)</th>\n",
       "      <th>price(원/kg)</th>\n",
       "    </tr>\n",
       "    <tr>\n",
       "      <th>item</th>\n",
       "      <th></th>\n",
       "      <th></th>\n",
       "    </tr>\n",
       "  </thead>\n",
       "  <tbody>\n",
       "    <tr>\n",
       "      <th>BC</th>\n",
       "      <td>1000.060071</td>\n",
       "      <td>910.196615</td>\n",
       "    </tr>\n",
       "    <tr>\n",
       "      <th>CB</th>\n",
       "      <td>11241.532567</td>\n",
       "      <td>152.187131</td>\n",
       "    </tr>\n",
       "    <tr>\n",
       "      <th>CR</th>\n",
       "      <td>5054.161992</td>\n",
       "      <td>273.118938</td>\n",
       "    </tr>\n",
       "    <tr>\n",
       "      <th>RD</th>\n",
       "      <td>27670.840003</td>\n",
       "      <td>187.073539</td>\n",
       "    </tr>\n",
       "    <tr>\n",
       "      <th>TG</th>\n",
       "      <td>14193.242484</td>\n",
       "      <td>3177.442022</td>\n",
       "    </tr>\n",
       "  </tbody>\n",
       "</table>\n",
       "</div>"
      ],
      "text/plain": [
       "        supply(kg)  price(원/kg)\n",
       "item                           \n",
       "BC     1000.060071   910.196615\n",
       "CB    11241.532567   152.187131\n",
       "CR     5054.161992   273.118938\n",
       "RD    27670.840003   187.073539\n",
       "TG    14193.242484  3177.442022"
      ]
     },
     "execution_count": 24,
     "metadata": {},
     "output_type": "execute_result"
    }
   ],
   "source": [
    "train.groupby(['item']).mean()"
   ]
  },
  {
   "cell_type": "code",
   "execution_count": 34,
   "metadata": {},
   "outputs": [
    {
     "data": {
      "text/html": [
       "<div>\n",
       "<style scoped>\n",
       "    .dataframe tbody tr th:only-of-type {\n",
       "        vertical-align: middle;\n",
       "    }\n",
       "\n",
       "    .dataframe tbody tr th {\n",
       "        vertical-align: top;\n",
       "    }\n",
       "\n",
       "    .dataframe thead th {\n",
       "        text-align: right;\n",
       "    }\n",
       "</style>\n",
       "<table border=\"1\" class=\"dataframe\">\n",
       "  <thead>\n",
       "    <tr style=\"text-align: right;\">\n",
       "      <th></th>\n",
       "      <th>ID</th>\n",
       "      <th>timestamp</th>\n",
       "      <th>item</th>\n",
       "      <th>corporation</th>\n",
       "      <th>location</th>\n",
       "      <th>supply(kg)</th>\n",
       "      <th>price(원/kg)</th>\n",
       "    </tr>\n",
       "  </thead>\n",
       "  <tbody>\n",
       "    <tr>\n",
       "      <th>0</th>\n",
       "      <td>TG_A_J_20190101</td>\n",
       "      <td>2019-01-01</td>\n",
       "      <td>TG</td>\n",
       "      <td>A</td>\n",
       "      <td>J</td>\n",
       "      <td>0.0</td>\n",
       "      <td>0.0</td>\n",
       "    </tr>\n",
       "    <tr>\n",
       "      <th>1</th>\n",
       "      <td>TG_A_J_20190102</td>\n",
       "      <td>2019-01-02</td>\n",
       "      <td>TG</td>\n",
       "      <td>A</td>\n",
       "      <td>J</td>\n",
       "      <td>0.0</td>\n",
       "      <td>0.0</td>\n",
       "    </tr>\n",
       "    <tr>\n",
       "      <th>2</th>\n",
       "      <td>TG_A_J_20190103</td>\n",
       "      <td>2019-01-03</td>\n",
       "      <td>TG</td>\n",
       "      <td>A</td>\n",
       "      <td>J</td>\n",
       "      <td>60601.0</td>\n",
       "      <td>1728.0</td>\n",
       "    </tr>\n",
       "    <tr>\n",
       "      <th>3</th>\n",
       "      <td>TG_A_J_20190104</td>\n",
       "      <td>2019-01-04</td>\n",
       "      <td>TG</td>\n",
       "      <td>A</td>\n",
       "      <td>J</td>\n",
       "      <td>25000.0</td>\n",
       "      <td>1408.0</td>\n",
       "    </tr>\n",
       "    <tr>\n",
       "      <th>4</th>\n",
       "      <td>TG_A_J_20190105</td>\n",
       "      <td>2019-01-05</td>\n",
       "      <td>TG</td>\n",
       "      <td>A</td>\n",
       "      <td>J</td>\n",
       "      <td>32352.0</td>\n",
       "      <td>1250.0</td>\n",
       "    </tr>\n",
       "    <tr>\n",
       "      <th>...</th>\n",
       "      <td>...</td>\n",
       "      <td>...</td>\n",
       "      <td>...</td>\n",
       "      <td>...</td>\n",
       "      <td>...</td>\n",
       "      <td>...</td>\n",
       "      <td>...</td>\n",
       "    </tr>\n",
       "    <tr>\n",
       "      <th>15225</th>\n",
       "      <td>TG_E_S_20230227</td>\n",
       "      <td>2023-02-27</td>\n",
       "      <td>TG</td>\n",
       "      <td>E</td>\n",
       "      <td>S</td>\n",
       "      <td>24204.0</td>\n",
       "      <td>3418.0</td>\n",
       "    </tr>\n",
       "    <tr>\n",
       "      <th>15226</th>\n",
       "      <td>TG_E_S_20230228</td>\n",
       "      <td>2023-02-28</td>\n",
       "      <td>TG</td>\n",
       "      <td>E</td>\n",
       "      <td>S</td>\n",
       "      <td>13587.0</td>\n",
       "      <td>3141.0</td>\n",
       "    </tr>\n",
       "    <tr>\n",
       "      <th>15227</th>\n",
       "      <td>TG_E_S_20230301</td>\n",
       "      <td>2023-03-01</td>\n",
       "      <td>TG</td>\n",
       "      <td>E</td>\n",
       "      <td>S</td>\n",
       "      <td>16187.0</td>\n",
       "      <td>4235.0</td>\n",
       "    </tr>\n",
       "    <tr>\n",
       "      <th>15228</th>\n",
       "      <td>TG_E_S_20230302</td>\n",
       "      <td>2023-03-02</td>\n",
       "      <td>TG</td>\n",
       "      <td>E</td>\n",
       "      <td>S</td>\n",
       "      <td>17830.0</td>\n",
       "      <td>3960.0</td>\n",
       "    </tr>\n",
       "    <tr>\n",
       "      <th>15229</th>\n",
       "      <td>TG_E_S_20230303</td>\n",
       "      <td>2023-03-03</td>\n",
       "      <td>TG</td>\n",
       "      <td>E</td>\n",
       "      <td>S</td>\n",
       "      <td>26157.0</td>\n",
       "      <td>3791.0</td>\n",
       "    </tr>\n",
       "  </tbody>\n",
       "</table>\n",
       "<p>15230 rows × 7 columns</p>\n",
       "</div>"
      ],
      "text/plain": [
       "                    ID   timestamp item corporation location  supply(kg)  \\\n",
       "0      TG_A_J_20190101  2019-01-01   TG           A        J         0.0   \n",
       "1      TG_A_J_20190102  2019-01-02   TG           A        J         0.0   \n",
       "2      TG_A_J_20190103  2019-01-03   TG           A        J     60601.0   \n",
       "3      TG_A_J_20190104  2019-01-04   TG           A        J     25000.0   \n",
       "4      TG_A_J_20190105  2019-01-05   TG           A        J     32352.0   \n",
       "...                ...         ...  ...         ...      ...         ...   \n",
       "15225  TG_E_S_20230227  2023-02-27   TG           E        S     24204.0   \n",
       "15226  TG_E_S_20230228  2023-02-28   TG           E        S     13587.0   \n",
       "15227  TG_E_S_20230301  2023-03-01   TG           E        S     16187.0   \n",
       "15228  TG_E_S_20230302  2023-03-02   TG           E        S     17830.0   \n",
       "15229  TG_E_S_20230303  2023-03-03   TG           E        S     26157.0   \n",
       "\n",
       "       price(원/kg)  \n",
       "0              0.0  \n",
       "1              0.0  \n",
       "2           1728.0  \n",
       "3           1408.0  \n",
       "4           1250.0  \n",
       "...            ...  \n",
       "15225       3418.0  \n",
       "15226       3141.0  \n",
       "15227       4235.0  \n",
       "15228       3960.0  \n",
       "15229       3791.0  \n",
       "\n",
       "[15230 rows x 7 columns]"
      ]
     },
     "execution_count": 34,
     "metadata": {},
     "output_type": "execute_result"
    }
   ],
   "source": [
    "train_TG = train.loc[train['item'] == 'TG']\n",
    "train_TG\n"
   ]
  },
  {
   "cell_type": "code",
   "execution_count": 38,
   "metadata": {},
   "outputs": [
    {
     "data": {
      "text/plain": [
       "2019-01-01    10\n",
       "2021-10-09    10\n",
       "2021-10-18    10\n",
       "2021-10-17    10\n",
       "2021-10-16    10\n",
       "              ..\n",
       "2020-05-20    10\n",
       "2020-05-19    10\n",
       "2020-05-18    10\n",
       "2020-05-17    10\n",
       "2023-03-03    10\n",
       "Name: timestamp, Length: 1523, dtype: int64"
      ]
     },
     "execution_count": 38,
     "metadata": {},
     "output_type": "execute_result"
    }
   ],
   "source": [
    "train_TG['timestamp'].value_counts()"
   ]
  },
  {
   "cell_type": "code",
   "execution_count": 39,
   "metadata": {},
   "outputs": [
    {
     "data": {
      "text/html": [
       "<div>\n",
       "<style scoped>\n",
       "    .dataframe tbody tr th:only-of-type {\n",
       "        vertical-align: middle;\n",
       "    }\n",
       "\n",
       "    .dataframe tbody tr th {\n",
       "        vertical-align: top;\n",
       "    }\n",
       "\n",
       "    .dataframe thead th {\n",
       "        text-align: right;\n",
       "    }\n",
       "</style>\n",
       "<table border=\"1\" class=\"dataframe\">\n",
       "  <thead>\n",
       "    <tr style=\"text-align: right;\">\n",
       "      <th></th>\n",
       "      <th>ID</th>\n",
       "      <th>timestamp</th>\n",
       "      <th>item</th>\n",
       "      <th>corporation</th>\n",
       "      <th>location</th>\n",
       "      <th>supply(kg)</th>\n",
       "      <th>price(원/kg)</th>\n",
       "    </tr>\n",
       "  </thead>\n",
       "  <tbody>\n",
       "    <tr>\n",
       "      <th>0</th>\n",
       "      <td>TG_A_J_20190101</td>\n",
       "      <td>2019-01-01</td>\n",
       "      <td>TG</td>\n",
       "      <td>A</td>\n",
       "      <td>J</td>\n",
       "      <td>0.0</td>\n",
       "      <td>0.0</td>\n",
       "    </tr>\n",
       "    <tr>\n",
       "      <th>1523</th>\n",
       "      <td>TG_A_S_20190101</td>\n",
       "      <td>2019-01-01</td>\n",
       "      <td>TG</td>\n",
       "      <td>A</td>\n",
       "      <td>S</td>\n",
       "      <td>0.0</td>\n",
       "      <td>0.0</td>\n",
       "    </tr>\n",
       "    <tr>\n",
       "      <th>3046</th>\n",
       "      <td>TG_B_J_20190101</td>\n",
       "      <td>2019-01-01</td>\n",
       "      <td>TG</td>\n",
       "      <td>B</td>\n",
       "      <td>J</td>\n",
       "      <td>0.0</td>\n",
       "      <td>0.0</td>\n",
       "    </tr>\n",
       "    <tr>\n",
       "      <th>4569</th>\n",
       "      <td>TG_B_S_20190101</td>\n",
       "      <td>2019-01-01</td>\n",
       "      <td>TG</td>\n",
       "      <td>B</td>\n",
       "      <td>S</td>\n",
       "      <td>0.0</td>\n",
       "      <td>0.0</td>\n",
       "    </tr>\n",
       "    <tr>\n",
       "      <th>6092</th>\n",
       "      <td>TG_C_J_20190101</td>\n",
       "      <td>2019-01-01</td>\n",
       "      <td>TG</td>\n",
       "      <td>C</td>\n",
       "      <td>J</td>\n",
       "      <td>0.0</td>\n",
       "      <td>0.0</td>\n",
       "    </tr>\n",
       "    <tr>\n",
       "      <th>7615</th>\n",
       "      <td>TG_C_S_20190101</td>\n",
       "      <td>2019-01-01</td>\n",
       "      <td>TG</td>\n",
       "      <td>C</td>\n",
       "      <td>S</td>\n",
       "      <td>0.0</td>\n",
       "      <td>0.0</td>\n",
       "    </tr>\n",
       "    <tr>\n",
       "      <th>9138</th>\n",
       "      <td>TG_D_J_20190101</td>\n",
       "      <td>2019-01-01</td>\n",
       "      <td>TG</td>\n",
       "      <td>D</td>\n",
       "      <td>J</td>\n",
       "      <td>0.0</td>\n",
       "      <td>0.0</td>\n",
       "    </tr>\n",
       "    <tr>\n",
       "      <th>10661</th>\n",
       "      <td>TG_D_S_20190101</td>\n",
       "      <td>2019-01-01</td>\n",
       "      <td>TG</td>\n",
       "      <td>D</td>\n",
       "      <td>S</td>\n",
       "      <td>0.0</td>\n",
       "      <td>0.0</td>\n",
       "    </tr>\n",
       "    <tr>\n",
       "      <th>12184</th>\n",
       "      <td>TG_E_J_20190101</td>\n",
       "      <td>2019-01-01</td>\n",
       "      <td>TG</td>\n",
       "      <td>E</td>\n",
       "      <td>J</td>\n",
       "      <td>0.0</td>\n",
       "      <td>0.0</td>\n",
       "    </tr>\n",
       "    <tr>\n",
       "      <th>13707</th>\n",
       "      <td>TG_E_S_20190101</td>\n",
       "      <td>2019-01-01</td>\n",
       "      <td>TG</td>\n",
       "      <td>E</td>\n",
       "      <td>S</td>\n",
       "      <td>0.0</td>\n",
       "      <td>0.0</td>\n",
       "    </tr>\n",
       "  </tbody>\n",
       "</table>\n",
       "</div>"
      ],
      "text/plain": [
       "                    ID   timestamp item corporation location  supply(kg)  \\\n",
       "0      TG_A_J_20190101  2019-01-01   TG           A        J         0.0   \n",
       "1523   TG_A_S_20190101  2019-01-01   TG           A        S         0.0   \n",
       "3046   TG_B_J_20190101  2019-01-01   TG           B        J         0.0   \n",
       "4569   TG_B_S_20190101  2019-01-01   TG           B        S         0.0   \n",
       "6092   TG_C_J_20190101  2019-01-01   TG           C        J         0.0   \n",
       "7615   TG_C_S_20190101  2019-01-01   TG           C        S         0.0   \n",
       "9138   TG_D_J_20190101  2019-01-01   TG           D        J         0.0   \n",
       "10661  TG_D_S_20190101  2019-01-01   TG           D        S         0.0   \n",
       "12184  TG_E_J_20190101  2019-01-01   TG           E        J         0.0   \n",
       "13707  TG_E_S_20190101  2019-01-01   TG           E        S         0.0   \n",
       "\n",
       "       price(원/kg)  \n",
       "0              0.0  \n",
       "1523           0.0  \n",
       "3046           0.0  \n",
       "4569           0.0  \n",
       "6092           0.0  \n",
       "7615           0.0  \n",
       "9138           0.0  \n",
       "10661          0.0  \n",
       "12184          0.0  \n",
       "13707          0.0  "
      ]
     },
     "execution_count": 39,
     "metadata": {},
     "output_type": "execute_result"
    }
   ],
   "source": [
    "train_TG[train_TG['timestamp'] == '2019-01-01']"
   ]
  },
  {
   "cell_type": "code",
   "execution_count": 37,
   "metadata": {},
   "outputs": [
    {
     "data": {
      "text/plain": [
       "<AxesSubplot:xlabel='timestamp', ylabel='price(원/kg)'>"
      ]
     },
     "execution_count": 37,
     "metadata": {},
     "output_type": "execute_result"
    },
    {
     "data": {
      "image/png": "[encoded data removed]",
      "text/plain": [
       "<Figure size 432x288 with 1 Axes>"
      ]
     },
     "metadata": {
      "needs_background": "light"
     },
     "output_type": "display_data"
    }
   ],
   "source": [
    "sns.lineplot(data=train_TG, x='timestamp', y='price(원/kg)',ci=None, hue='corporation')"
   ]
  },
  {
   "cell_type": "markdown",
   "metadata": {},
   "source": [
    "### International Trade"
   ]
  },
  {
   "cell_type": "code",
   "execution_count": 16,
   "metadata": {},
   "outputs": [
    {
     "data": {
      "text/plain": [
       "(        기간                        품목명   수출 중량  수출 금액    수입 중량  수입 금액  무역수지\n",
       " 0  2019-01  토마토(신선한 것이나 냉장한 것으로 한정한다)  356571    990        0      0   990\n",
       " 1  2019-01                         양파  821330    222  4003206   1118  -896\n",
       " 2  2019-01                         쪽파      60      1    93405    128  -127\n",
       " 3  2019-01       꽃양배추와 브로콜리(broccoli)     160      1   638913    563  -562\n",
       " 4  2019-01                  방울다다기 양배추       0      0     7580     38   -38,\n",
       " (1274, 7))"
      ]
     },
     "execution_count": 16,
     "metadata": {},
     "output_type": "execute_result"
    }
   ],
   "source": [
    "international_trade.head(), international_trade.shape"
   ]
  },
  {
   "cell_type": "code",
   "execution_count": 17,
   "metadata": {},
   "outputs": [
    {
     "data": {
      "text/plain": [
       "감귤                                                                               50\n",
       "포포(papaw)[파파야(papaya)]                                                           50\n",
       "레몬[시트러스 리몬(Citrus limon)ㆍ시트러스 리머늄(Citrus limonum)]                               50\n",
       "그레이프프루트(grapefruit)와 포멜로(pomelo)                                                 50\n",
       "오렌지                                                                              50\n",
       "망고(mango)                                                                        50\n",
       "파인애플                                                                             50\n",
       "무화과                                                                              50\n",
       "대추야자                                                                             50\n",
       "사과                                                                               50\n",
       "오이류(신선한 것이나 냉장한 것으로 한정한다)                                                        50\n",
       "당근                                                                               50\n",
       "배                                                                                50\n",
       "결구(結球) 상추                                                                        50\n",
       "양배추                                                                              50\n",
       "방울다다기 양배추                                                                        50\n",
       "꽃양배추와 브로콜리(broccoli)                                                             50\n",
       "수박                                                                               49\n",
       "망고스틴(mangosteen)                                                                 42\n",
       "양파                                                                               42\n",
       "자두                                                                               39\n",
       "토마토(신선한 것이나 냉장한 것으로 한정한다)                                                        36\n",
       "쪽파                                                                               36\n",
       "콩[비그나(Vigna)속ㆍ파세러스(Phaseolus)속)]                                                 25\n",
       "구아바(guava)                                                                       23\n",
       "복숭아[넥터린(nectarine)을 포함한다]                                                        23\n",
       "위트루프 치커리(Witloof chicory)[시코리엄 인티부스 변종 포리오섬(Cichorium intybus var. foliosum)]    22\n",
       "신 체리[프루너스 체라서스(Prunus cerasus)]                                                  16\n",
       "살구                                                                               15\n",
       "방울토마토                                                                            14\n",
       "샬롯(shallot)                                                                      14\n",
       "완두[피섬 새티범(Pisum sativum)]                                                        11\n",
       "참외                                                                               11\n",
       "순무                                                                                6\n",
       "Name: 품목명, dtype: int64"
      ]
     },
     "execution_count": 17,
     "metadata": {},
     "output_type": "execute_result"
    }
   ],
   "source": [
    "international_trade['품목명'].value_counts()"
   ]
  },
  {
   "cell_type": "code",
   "execution_count": null,
   "metadata": {},
   "outputs": [],
   "source": []
  }
 ],
 "metadata": {
  "interpreter": {
   "hash": "1c1f657b55f9e5c8540078b860d4dd0ddd2a500de25085401787f024aa7c4e1a"
  },
  "kernelspec": {
   "display_name": "Python 3.8.5 ('base')",
   "language": "python",
   "name": "python3"
  },
  "language_info": {
   "codemirror_mode": {
    "name": "ipython",
    "version": 3
   },
   "file_extension": ".py",
   "mimetype": "text/x-python",
   "name": "python",
   "nbconvert_exporter": "python",
   "pygments_lexer": "ipython3",
   "version": "3.8.5"
  },
  "orig_nbformat": 4
 },
 "nbformat": 4,
 "nbformat_minor": 2
}
